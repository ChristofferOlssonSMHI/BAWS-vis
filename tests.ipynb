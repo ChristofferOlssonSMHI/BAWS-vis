{
 "cells": [
  {
   "cell_type": "code",
   "execution_count": 71,
   "metadata": {},
   "outputs": [],
   "source": [
    "import pandas as pd\n",
    "import geopandas as gp\n",
    "import numpy as np\n",
    "\n",
    "from bawsvis.data_handler import get_area, rasterize_daily_shp, filter_shapes"
   ]
  },
  {
   "cell_type": "code",
   "execution_count": 127,
   "metadata": {},
   "outputs": [
    {
     "data": {
      "image/png": "[encoded data removed]",
      "text/plain": [
       "<Figure size 640x480 with 1 Axes>"
      ]
     },
     "metadata": {},
     "output_type": "display_data"
    }
   ],
   "source": [
    "import matplotlib.pyplot as plt\n",
    "# plt.axhline(y=0.5, color='r', linestyle='-')\n",
    "plt.grid(True, which='minor', axis='x')\n",
    "plt.show()"
   ]
  },
  {
   "cell_type": "code",
   "execution_count": null,
   "metadata": {},
   "outputs": [],
   "source": [
    "print(\"Default max_rows: {} and min_rows: {}\".format(\n",
    "pd.get_option(\"max_rows\"), pd.get_option(\"min_rows\")))"
   ]
  },
  {
   "cell_type": "code",
   "execution_count": null,
   "metadata": {},
   "outputs": [],
   "source": [
    "pd.options.display.max_rows = None"
   ]
  },
  {
   "cell_type": "code",
   "execution_count": null,
   "metadata": {},
   "outputs": [],
   "source": [
    "def test_filtering(file):\n",
    "    gf = gp.read_file(file)\n",
    "    a = filter_shapes(gf)\n",
    "    \n",
    "    # print(a)\n",
    "    print(gf)"
   ]
  },
  {
   "cell_type": "code",
   "execution_count": null,
   "metadata": {},
   "outputs": [],
   "source": [
    "test_filtering(r'c:\\Arbetsmapp\\BAWS\\Årsrapport 2023\\Data_test\\corrected_geoms\\cyano_daymap_20230803.shp')"
   ]
  },
  {
   "cell_type": "code",
   "execution_count": null,
   "metadata": {},
   "outputs": [],
   "source": [
    "test_filtering(r'c:\\Arbetsmapp\\BAWS\\Årsrapport 2023\\Data_test\\corrected_geoms\\cyano_daymap_20230803.shp')"
   ]
  },
  {
   "cell_type": "code",
   "execution_count": null,
   "metadata": {},
   "outputs": [],
   "source": [
    "# def sub_basin_shp_info():\n",
    "areas = gp.read_file(\n",
    "    r'c:\\Arbetsmapp\\Shapefiler\\Sub-basins_Baltic_Sea\\Havsomr_SVAR_2016_3b.shp'\n",
    "    # r'C:\\Utveckling\\w_sharktoolbox\\SharkToolbox\\data\\shapefiles\\SVAR 2016_3b_for_statistic_plotting\\statistic_areas.shp'\n",
    ")\n",
    "pd.set_option('display.max_columns',None)\n",
    "pd.set_option('display.max_rows',None)\n",
    "basin_geometries = areas[['BASIN_NR', 'geometry']]\n",
    "basins = basin_geometries.dissolve(by='BASIN_NR', as_index=False)\n",
    "basins.loc[:]\n",
    "\n",
    "selected_basins = (3, 4, 6, 7, 8, 9, 10, 11, 12, 13, 14, 15)\n",
    "basins['BASIN_NR'].isin(selected_basins)"
   ]
  },
  {
   "cell_type": "code",
   "execution_count": null,
   "metadata": {},
   "outputs": [],
   "source": [
    "areas = gp.read_file(\n",
    "    # r'c:\\Arbetsmapp\\Shapefiler\\Sub-basins_Baltic_Sea\\Havsomr_SVAR_2016_3b.shp'\n",
    "    r'C:\\Arbetsmapp\\Shapefiler\\HELCOM_Sub-basins_Baltic_Sea\\HELCOM_subbasins_2022_level2.shp'\n",
    ")\n",
    "# areas = areas.to_crs(epsg=3006)\n",
    "# selected_basins = [f'{n}' for n in\n",
    "#                     (3, 4, 6, 7, 8, 9, 10, 11, 12, 13, 14, 15)]\n",
    "# boolean_filter = areas[''].isin(selected_basins)\n",
    "# areas = areas.loc[boolean_filter, :].reset_index(drop=True)\n",
    "# areas['area'] = areas['geometry'].apply(lambda geom: int(geom.area))\n",
    "# areas['area_threshold'] = areas['area'].apply(lambda a: int(a * .8))\n",
    "\n",
    "areas.loc[:]"
   ]
  },
  {
   "cell_type": "code",
   "execution_count": null,
   "metadata": {},
   "outputs": [],
   "source": [
    "areas = gp.read_file(\n",
    "    # r'c:\\Arbetsmapp\\Shapefiler\\Sub-basins_Baltic_Sea\\Havsomr_SVAR_2016_3b.shp'\n",
    "    r'C:\\Arbetsmapp\\Shapefiler\\HELCOM_Sub-basins_Baltic_Sea\\HELCOM_subbasins_2022_level2.shp'\n",
    ")\n",
    "areas = areas.to_crs(epsg=3006)\n",
    "areas = areas.loc\n",
    "selected_basins = [f'SEA-0{n}' for n in\n",
    "                    ('03', '04', '06', '07', '08', '09', 10, 11, 12, 13, 14, 15)]\n",
    "boolean_filter = areas['HELCOM_ID'].isin(selected_basins)\n",
    "areas = areas.loc[boolean_filter, :].reset_index(drop=True)\n",
    "areas['area'] = areas['geometry'].apply(lambda geom: int(geom.area))\n",
    "areas['area_threshold'] = areas['area'].apply(lambda a: int(a * .8))\n",
    "\n",
    "areas.loc[:]"
   ]
  },
  {
   "cell_type": "code",
   "execution_count": 113,
   "metadata": {},
   "outputs": [],
   "source": [
    "fid = r'C:\\Kodning\\BAWS-vis\\area_season_bloom_all.xlsx'\n",
    "\n",
    "stats = None\n",
    "for year in range(2002, 2024):\n",
    "    df = pd.read_excel(\n",
    "        fid,\n",
    "        sheet_name=f'{year}',\n",
    "    )\n",
    "    if not stats:\n",
    "        stats = {\n",
    "            str(y): {\n",
    "                a: {\n",
    "                    'start': [],\n",
    "                    'end': [],\n",
    "                } for a in df['BASIN']\n",
    "            } for y in range(2002, 2024)\n",
    "        }\n",
    "\n",
    "    for b in df['BASIN']:\n",
    "        boolean = df['BASIN'] == b\n",
    "        df_dates_only = df.drop(columns='BASIN')\n",
    "        arr = df_dates_only.loc[boolean, :].values\n",
    "        idx = np.logical_or(arr == 2, arr == 3)[0]\n",
    "        dates = df_dates_only.columns[idx]\n",
    "        if any(dates):\n",
    "            stats[str(year)][b]['start'] = dates[0]\n",
    "            stats[str(year)][b]['end'] = dates[-1]\n",
    "        else:\n",
    "            stats[str(year)][b]['start'] = np.nan\n",
    "            stats[str(year)][b]['end'] = np.nan"
   ]
  },
  {
   "cell_type": "code",
   "execution_count": 120,
   "metadata": {},
   "outputs": [
    {
     "name": "stdout",
     "output_type": "stream",
     "text": [
      "0   2023-07-14\n",
      "1   2023-09-16\n",
      "2   2023-08-18\n",
      "dtype: datetime64[ns]\n"
     ]
    }
   ],
   "source": [
    "start_values = [stats[y][b]['start'] for y in stats]\n",
    "start_values = pd.Series([pd.Timestamp(f'2023{d[4:]}') for d in start_values if not pd.isnull(d)])\n",
    "print(start_values)"
   ]
  },
  {
   "cell_type": "code",
   "execution_count": 80,
   "metadata": {},
   "outputs": [],
   "source": [
    "basins = df['BASIN'].to_list()\n",
    "basins.append('All')\n",
    "print(basins)\n",
    "for b in basins:\n",
    "    dummy_year = '2023{}'\n",
    "    if b != 'All':\n",
    "        start_values = [stats[y][b]['start'] for y in stats]\n",
    "        print(\"start_values:\", start_values)\n",
    "        start_values = pd.Series([pd.Timestamp(d[4:]) for d in start_values if not pd.isnull(d)])\n",
    "        end_values = [stats[y][b]['end'] for y in stats]\n",
    "        end_values = pd.Series([pd.Timestamp(d) for d in end_values if not pd.isnull(d)])"
   ]
  },
  {
   "cell_type": "code",
   "execution_count": 84,
   "metadata": {},
   "outputs": [
    {
     "name": "stdout",
     "output_type": "stream",
     "text": [
      "[nan, nan, nan, nan, '20060714', nan, nan, nan, nan, nan, nan, nan, nan, nan, '20160916', nan, nan, nan, '20200818', nan, nan, nan]\n"
     ]
    }
   ],
   "source": [
    "start_values = [stats[y][b]['start'] for y in stats]\n",
    "print(start_values)"
   ]
  },
  {
   "cell_type": "code",
   "execution_count": 92,
   "metadata": {},
   "outputs": [
    {
     "name": "stdout",
     "output_type": "stream",
     "text": [
      "2022-07-14 00:00:00\n"
     ]
    }
   ],
   "source": [
    "start_values = [stats[y][b]['start'] for y in stats]\n",
    "dummy_year = '2022{}'\n",
    "# start_test = pd.Timestamp(dummy_year.format(d[4:]) for d in start_values if not pd.isnull(d))\n",
    "start_test = pd.Timestamp(dummy_year.format('20060714'[4:]))\n",
    "print(start_test)"
   ]
  },
  {
   "cell_type": "code",
   "execution_count": 96,
   "metadata": {},
   "outputs": [
    {
     "name": "stdout",
     "output_type": "stream",
     "text": [
      "2023-08-18 00:00:00\n"
     ]
    }
   ],
   "source": [
    "year = 2023\n",
    "for d in start_values:\n",
    "    if not pd.isnull(d):\n",
    "        test = pd.Timestamp(f'{year}{d[4:]}')\n",
    "print(test)"
   ]
  },
  {
   "cell_type": "code",
   "execution_count": 98,
   "metadata": {},
   "outputs": [
    {
     "ename": "KeyError",
     "evalue": "'All'",
     "output_type": "error",
     "traceback": [
      "\u001b[1;31m---------------------------------------------------------------------------\u001b[0m",
      "\u001b[1;31mKeyError\u001b[0m                                  Traceback (most recent call last)",
      "Cell \u001b[1;32mIn[98], line 3\u001b[0m\n\u001b[0;32m      1\u001b[0m \u001b[38;5;28;01mfor\u001b[39;00m b \u001b[38;5;129;01min\u001b[39;00m basins:\n\u001b[0;32m      2\u001b[0m     dummy_year \u001b[38;5;241m=\u001b[39m \u001b[38;5;124m'\u001b[39m\u001b[38;5;124m2022\u001b[39m\u001b[38;5;124m'\u001b[39m\n\u001b[1;32m----> 3\u001b[0m     start_values \u001b[38;5;241m=\u001b[39m [\u001b[43mstats\u001b[49m\u001b[43m[\u001b[49m\u001b[43my\u001b[49m\u001b[43m]\u001b[49m\u001b[43m[\u001b[49m\u001b[43mb\u001b[49m\u001b[43m]\u001b[49m[\u001b[38;5;124m'\u001b[39m\u001b[38;5;124mstart\u001b[39m\u001b[38;5;124m'\u001b[39m] \u001b[38;5;28;01mfor\u001b[39;00m y \u001b[38;5;129;01min\u001b[39;00m stats]\n\u001b[0;32m      4\u001b[0m     start_values \u001b[38;5;241m=\u001b[39m pd\u001b[38;5;241m.\u001b[39mSeries([pd\u001b[38;5;241m.\u001b[39mTimestamp(dummy_year\u001b[38;5;241m.\u001b[39mformat(d[\u001b[38;5;241m4\u001b[39m:])) \u001b[38;5;28;01mfor\u001b[39;00m d \u001b[38;5;129;01min\u001b[39;00m start_values \u001b[38;5;28;01mif\u001b[39;00m \u001b[38;5;129;01mnot\u001b[39;00m pd\u001b[38;5;241m.\u001b[39misnull(d)])\n\u001b[0;32m      5\u001b[0m     end_values \u001b[38;5;241m=\u001b[39m [stats[y][b][\u001b[38;5;124m'\u001b[39m\u001b[38;5;124mend\u001b[39m\u001b[38;5;124m'\u001b[39m] \u001b[38;5;28;01mfor\u001b[39;00m y \u001b[38;5;129;01min\u001b[39;00m stats]\n",
      "\u001b[1;31mKeyError\u001b[0m: 'All'"
     ]
    }
   ],
   "source": [
    "for b in basins:\n",
    "    dummy_year = '2022'\n",
    "    start_values = [stats[y][b]['start'] for y in stats]\n",
    "    start_values = pd.Series([pd.Timestamp(dummy_year.format(d[4:])) for d in start_values if not pd.isnull(d)])\n",
    "    end_values = [stats[y][b]['end'] for y in stats]\n",
    "    end_values = pd.Series([pd.Timestamp(dummy_year.format(d[4:])) for d in end_values if not pd.isnull(d)])"
   ]
  },
  {
   "cell_type": "code",
   "execution_count": 74,
   "metadata": {},
   "outputs": [
    {
     "name": "stdout",
     "output_type": "stream",
     "text": [
      "0   2022-07-14\n",
      "1   2022-09-16\n",
      "2   2022-08-18\n",
      "dtype: datetime64[ns]\n",
      "0   2022-08-06\n",
      "1   2022-09-16\n",
      "2   2022-08-18\n",
      "dtype: datetime64[ns]\n"
     ]
    }
   ],
   "source": [
    "print(start_values)\n",
    "print(end_values)"
   ]
  }
 ],
 "metadata": {
  "kernelspec": {
   "display_name": "BAWS-vis-YOdnwBxO",
   "language": "python",
   "name": "python3"
  },
  "language_info": {
   "codemirror_mode": {
    "name": "ipython",
    "version": 3
   },
   "file_extension": ".py",
   "mimetype": "text/x-python",
   "name": "python",
   "nbconvert_exporter": "python",
   "pygments_lexer": "ipython3",
   "version": "3.12.0"
  }
 },
 "nbformat": 4,
 "nbformat_minor": 2
}
